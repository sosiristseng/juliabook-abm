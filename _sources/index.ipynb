{
 "cells": [
  {
   "cell_type": "markdown",
   "metadata": {},
   "source": [
    "# Agent-based Modeling\n",
    "\n",
    "Agent-based Modeling (ABM) is a simulation method where the autonomous agents interacting with the environment (space) and/or each other by a set of rules.\n",
    "\n",
    "The most obvious example of ABM is to simulate actions of non-player characters (NPCs) in computer games.\n",
    "\n",
    "ABM is able to model heterogeneously, i.e. it does not require the environment to be well stirred (as opposed to ODEs), continuous (as opposed to to PDEs), nor need the characteristics of each kind of agents to be identical (as opposed to SSAs).\n",
    "\n",
    "This makes ABM more flexible to model individual behaviors.\n",
    "- traffic jam\n",
    "- infectious disease spread\n",
    "- molecular interactions\n",
    "\n",
    "## Elements of ABM\n",
    "\n",
    "To use `Agents.jl`, we need to define:\n",
    "\n",
    "- The [**space**](https://juliadynamics.github.io/Agents.jl/stable/api/#Available-spaces-1) where the agents live\n",
    "- The [**agents**](https://juliadynamics.github.io/Agents.jl/stable/api/#@agent-macro-1) with self-defined properties.\n",
    "- The **model** to hold the `space`, the `agent`s, and other parameters (called `properties`)\n",
    "- The stepping function `step!()` to tell how the model evolve.\n",
    "\n",
    "## Could I do ABM by myself?\n",
    "\n",
    "Yes, you can define the agents, rules and stepping functions from scratch, but it's more convenient (and perhaps more performant) to use a test package like `Agents.jl`.\n",
    "\n",
    "## Resources\n",
    "\n",
    "- [Documentation](https://juliadynamics.github.io/Agents.jl/stable/) of `Agents.jl`.\n",
    "- [sir-julia](https://github.com/epirecipes/sir-julia) : Various implementations of the classical SIR model in Julia."
   ]
  },
  {
   "cell_type": "markdown",
   "metadata": {},
   "source": [
    "## Runtime information"
   ]
  },
  {
   "cell_type": "code",
   "execution_count": 1,
   "metadata": {
    "execution": {
     "iopub.execute_input": "2022-07-05T11:19:31.195000Z",
     "iopub.status.busy": "2022-07-05T11:19:30.749000Z",
     "iopub.status.idle": "2022-07-05T11:19:32.257000Z",
     "shell.execute_reply": "2022-07-05T11:19:32.182000Z"
    }
   },
   "outputs": [
    {
     "name": "stdout",
     "output_type": "stream",
     "text": [
      "Julia Version 1.7.3\n",
      "Commit 742b9abb4d (2022-05-06 12:58 UTC)\n",
      "Platform Info:\n",
      "  OS: Linux (x86_64-pc-linux-gnu)\n",
      "  CPU: AMD EPYC 7B13\n",
      "  WORD_SIZE: 64\n",
      "  LIBM: libopenlibm\n",
      "  LLVM: libLLVM-12.0.1 (ORCJIT, znver3)\n",
      "Environment:\n",
      "  JULIA_PATH = /usr/local/julia/\n"
     ]
    }
   ],
   "source": [
    "versioninfo()"
   ]
  },
  {
   "cell_type": "code",
   "execution_count": 2,
   "metadata": {
    "execution": {
     "iopub.execute_input": "2022-07-05T11:19:32.286000Z",
     "iopub.status.busy": "2022-07-05T11:19:32.286000Z",
     "iopub.status.idle": "2022-07-05T11:19:34.039000Z",
     "shell.execute_reply": "2022-07-05T11:19:34.038000Z"
    }
   },
   "outputs": [
    {
     "name": "stdout",
     "output_type": "stream",
     "text": [
      "\u001b[32m\u001b[1m      Status\u001b[22m\u001b[39m `/tmp/cirrus-ci-build/Project.toml`\n",
      " \u001b[90m [46ada45e] \u001b[39mAgents v5.3.0\n",
      " \u001b[90m [13f3f980] \u001b[39mCairoMakie v0.7.5\n",
      " \u001b[90m [a93c6f00] \u001b[39mDataFrames v1.3.4\n",
      " \u001b[90m [31c24e10] \u001b[39mDistributions v0.25.64\n",
      " \u001b[90m [86223c79] \u001b[39mGraphs v1.7.1\n",
      " \u001b[90m [ec714cd0] \u001b[39mInteractiveDynamics v0.21.3\n"
     ]
    }
   ],
   "source": [
    "using Pkg\n",
    "Pkg.status()"
   ]
  }
 ],
 "metadata": {
  "kernelspec": {
   "display_name": "Julia 1.7.3",
   "language": "julia",
   "name": "julia-1.7"
  },
  "language_info": {
   "file_extension": ".jl",
   "mimetype": "application/julia",
   "name": "julia",
   "version": "1.7.3"
  }
 },
 "nbformat": 4,
 "nbformat_minor": 2
}
