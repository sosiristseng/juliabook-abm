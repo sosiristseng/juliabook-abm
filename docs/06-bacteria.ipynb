{
 "cells": [
  {
   "cell_type": "markdown",
   "metadata": {},
   "source": [
    "# Bacterial Growth: a complex continuous system\n",
    "\n",
    "From: https://juliadynamics.github.io/AgentsExampleZoo.jl/dev/examples/growing_bacteria/"
   ]
  },
  {
   "cell_type": "code",
   "execution_count": null,
   "metadata": {},
   "outputs": [],
   "source": [
    "using Agents\n",
    "using LinearAlgebra\n",
    "using Random"
   ]
  },
  {
   "cell_type": "markdown",
   "metadata": {},
   "source": [
    "## Agents\n",
    "\n",
    "Agents will be splitting into more agents, thus having agent generation in continuous space. The model also uses advanced agent movement in continuous space, where a specialized `move_agent` function is created."
   ]
  },
  {
   "cell_type": "code",
   "execution_count": null,
   "metadata": {},
   "outputs": [],
   "source": [
    "mutable struct SimpleCell <: AbstractAgent\n",
    "    id::Int\n",
    "    pos::NTuple{2, Float64}\n",
    "    length::Float64\n",
    "    orientation::Float64\n",
    "    growthprog::Float64\n",
    "    growthrate::Float64\n",
    "\n",
    "    # node positions/forces\n",
    "    p1::NTuple{2, Float64}\n",
    "    p2::NTuple{2, Float64}\n",
    "    f1::NTuple{2, Float64}\n",
    "    f2::NTuple{2, Float64}\n",
    "end\n",
    "\n",
    "# Specialized constructor\n",
    "function SimpleCell(id, pos, l, φ, g, γ)\n",
    "    a = SimpleCell(id, pos, l, φ, g, γ, (0.0, 0.0), (0.0, 0.0), (0.0, 0.0), (0.0, 0.0))\n",
    "    update_nodes!(a)\n",
    "    return a\n",
    "end "
   ]
  },
  {
   "cell_type": "markdown",
   "metadata": {},
   "source": [
    "In this model, the agents have to store their state in two redundant ways: the cell coordinates (position, length, orientation) are required for the equations of motion, while the positions of the disk-shaped nodes are necessary for calculating mechanical forces between cells. To transform from one set of coordinates to the other, we need to write a function:"
   ]
  },
  {
   "cell_type": "code",
   "execution_count": null,
   "metadata": {},
   "outputs": [],
   "source": [
    "# geometry convenience functions\n",
    "unitvector(φ) = reverse(sincos(φ))\n",
    "cross2D(a, b) = a[1] * b[2] - a[2] * b[1]\n",
    "\n",
    "function update_nodes!(a::SimpleCell)\n",
    "    offset = 0.5 * a.length .* unitvector(a.orientation)\n",
    "    a.p1 = a.pos .+ offset\n",
    "    a.p2 = a.pos .- offset\n",
    "end"
   ]
  },
  {
   "cell_type": "markdown",
   "metadata": {},
   "source": [
    "## Stepping functions"
   ]
  },
  {
   "cell_type": "code",
   "execution_count": null,
   "metadata": {},
   "outputs": [],
   "source": [
    "function model_step!(model)\n",
    "    extent = model.space.extent\n",
    "    for a in allagents(model)\n",
    "        if a.growthprog ≥ 1\n",
    "            # When a cell has matured, it divides into two daughter cells on the\n",
    "            # positions of its nodes.\n",
    "            add_agent!(a.p1, model, 0.0, a.orientation, 0.0, 0.1 * rand(model.rng) + 0.05)\n",
    "            add_agent!(a.p2, model, 0.0, a.orientation, 0.0, 0.1 * rand(model.rng) + 0.05)\n",
    "            kill_agent!(a, model)\n",
    "        else\n",
    "            # The rest lengh of the internal spring grows with time. This causes\n",
    "            # the nodes to physically separate.\n",
    "            uv = unitvector(a.orientation)\n",
    "            internalforce = model.hardness * (a.length - a.growthprog) .* uv\n",
    "            a.f1 = -1 .* internalforce\n",
    "            a.f2 = internalforce\n",
    "        end\n",
    "    end\n",
    "    # Bacteria can interact with more than on other cell at the same time, therefore,\n",
    "    # we need to specify the option `:all` in `interacting_pairs`\n",
    "    for (a1, a2) in interacting_pairs(model, 2.0, :all)\n",
    "        interact!(a1, a2, model)\n",
    "    end\n",
    "end"
   ]
  },
  {
   "cell_type": "code",
   "execution_count": null,
   "metadata": {},
   "outputs": [],
   "source": [
    "function agent_step!(agent::SimpleCell, model::ABM)\n",
    "    fsym, compression, torque = transform_forces(agent)\n",
    "    direction =  model.dt * model.mobility .* fsym\n",
    "    walk!(agent, direction, model)\n",
    "    agent.length += model.dt * model.mobility .* compression\n",
    "    agent.orientation += model.dt * model.mobility .* torque\n",
    "    agent.growthprog += model.dt * agent.growthrate\n",
    "    update_nodes!(agent)\n",
    "    return agent.pos\n",
    "end"
   ]
  },
  {
   "cell_type": "markdown",
   "metadata": {},
   "source": [
    "## Helper functions"
   ]
  },
  {
   "cell_type": "code",
   "execution_count": null,
   "metadata": {},
   "outputs": [],
   "source": [
    "function interact!(a1::SimpleCell, a2::SimpleCell, model)\n",
    "    n11 = noderepulsion(a1.p1, a2.p1, model)\n",
    "    n12 = noderepulsion(a1.p1, a2.p2, model)\n",
    "    n21 = noderepulsion(a1.p2, a2.p1, model)\n",
    "    n22 = noderepulsion(a1.p2, a2.p2, model)\n",
    "    a1.f1 = @. a1.f1 + (n11 + n12)\n",
    "    a1.f2 = @. a1.f2 + (n21 + n22)\n",
    "    a2.f1 = @. a2.f1 - (n11 + n21)\n",
    "    a2.f2 = @. a2.f2 - (n12 + n22)\n",
    "end\n",
    "\n",
    "function noderepulsion(p1::NTuple{2,Float64}, p2::NTuple{2,Float64}, model::ABM)\n",
    "    delta = p1 .- p2\n",
    "    distance = norm(delta)\n",
    "    if distance ≤ 1\n",
    "        uv = delta ./ distance\n",
    "        return (model.hardness * (1 - distance)) .* uv\n",
    "    end\n",
    "    return (0.0, 0.0)\n",
    "end\n",
    "\n",
    "function transform_forces(agent::SimpleCell)\n",
    "    # symmetric forces (CM movement)\n",
    "    fsym = agent.f1 .+ agent.f2\n",
    "    # antisymmetric forces (compression, torque)\n",
    "    fasym = agent.f1 .- agent.f2\n",
    "    uv = unitvector(agent.orientation)\n",
    "    compression = dot(uv, fasym)\n",
    "    torque = 0.5 * cross2D(uv, fasym)\n",
    "    return fsym, compression, torque\n",
    "end"
   ]
  },
  {
   "cell_type": "markdown",
   "metadata": {},
   "source": [
    "## Animating bacterial growth"
   ]
  },
  {
   "cell_type": "code",
   "execution_count": null,
   "metadata": {},
   "outputs": [],
   "source": [
    "function initialise(; \n",
    "    spacesize=(14, 9),\n",
    "    dt = 0.005,\n",
    "    hardness = 100.0,\n",
    "    mobility = 1.0,\n",
    "    seed = 1680\n",
    ")\n",
    "    properties = Dict(:dt => dt, :hardness => hardness, :mobility => mobility)\n",
    "    space = ContinuousSpace(spacesize, 1.0; periodic = false)\n",
    "    rng = MersenneTwister(seed)\n",
    "    model = ABM(\n",
    "        SimpleCell,\n",
    "        space;\n",
    "        properties = properties,\n",
    "        rng = rng\n",
    "    )\n",
    "end"
   ]
  },
  {
   "cell_type": "code",
   "execution_count": null,
   "metadata": {},
   "outputs": [],
   "source": [
    "model = initialise()"
   ]
  },
  {
   "cell_type": "code",
   "execution_count": null,
   "metadata": {},
   "outputs": [],
   "source": [
    "# Start with two bacteria\n",
    "add_agent!((6.5, 4.0), model, 0.0, 0.3, 0.0, 0.1)\n",
    "add_agent!((7.5, 4.0), model, 0.0, 0.0, 0.0, 0.1)"
   ]
  },
  {
   "cell_type": "code",
   "execution_count": null,
   "metadata": {},
   "outputs": [],
   "source": [
    "using InteractiveDynamics\n",
    "using CairoMakie\n",
    "\n",
    "function cassini_oval(agent)\n",
    "    t = LinRange(0, 2π, 50)\n",
    "    a = agent.growthprog\n",
    "    b = 1\n",
    "    m = @. 2 * sqrt((b^4 - a^4) + a^4 * cos(2 * t)^2) + 2 * a^2 * cos(2 * t)\n",
    "    C = sqrt.(m / 2)\n",
    "\n",
    "    x = C .* cos.(t)\n",
    "    y = C .* sin.(t)\n",
    "\n",
    "    uv = reverse(sincos(agent.orientation))\n",
    "    θ = atan(uv[2], uv[1])\n",
    "    R = [cos(θ) -sin(θ); sin(θ) cos(θ)]\n",
    "\n",
    "    bacteria = R * permutedims([x y])\n",
    "    coords = [Point2f(x, y) for (x, y) in zip(bacteria[1, :], bacteria[2, :])]\n",
    "    scale(Polygon(coords), 0.5)\n",
    "end"
   ]
  },
  {
   "cell_type": "code",
   "execution_count": null,
   "metadata": {},
   "outputs": [],
   "source": [
    "bacteria_color(agent) = CairoMakie.RGBf(agent.id * 3.14 % 1, 0.2, 0.2)"
   ]
  },
  {
   "cell_type": "code",
   "execution_count": null,
   "metadata": {},
   "outputs": [],
   "source": [
    "abmvideo(\n",
    "    \"_static/bacteria.mp4\", model, agent_step!, model_step!;\n",
    "    am = cassini_oval, ac = bacteria_color,\n",
    "    spf = 50, framerate = 30, frames = 300,\n",
    "    title = \"Growing bacteria\"\n",
    ")"
   ]
  },
  {
   "cell_type": "markdown",
   "metadata": {},
   "source": []
  }
 ],
 "metadata": {
  "kernelspec": {
   "display_name": "Julia 1.7.3",
   "language": "julia",
   "name": "julia-1.7"
  },
  "language_info": {
   "file_extension": ".jl",
   "mimetype": "application/julia",
   "name": "julia",
   "version": "1.7.3"
  },
  "orig_nbformat": 4
 },
 "nbformat": 4,
 "nbformat_minor": 2
}
